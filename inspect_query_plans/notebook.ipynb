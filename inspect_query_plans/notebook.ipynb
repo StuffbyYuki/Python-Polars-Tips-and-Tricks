{
 "cells": [
  {
   "cell_type": "markdown",
   "metadata": {},
   "source": [
    "# Inspect Query Plans"
   ]
  },
  {
   "cell_type": "code",
   "execution_count": 1,
   "metadata": {},
   "outputs": [],
   "source": [
    "import polars as pl"
   ]
  },
  {
   "cell_type": "code",
   "execution_count": 2,
   "metadata": {},
   "outputs": [
    {
     "data": {
      "text/plain": [
       "'1.5.0'"
      ]
     },
     "execution_count": 2,
     "metadata": {},
     "output_type": "execute_result"
    }
   ],
   "source": [
    "pl.__version__"
   ]
  },
  {
   "cell_type": "markdown",
   "metadata": {},
   "source": [
    "## .explain() method"
   ]
  },
  {
   "cell_type": "code",
   "execution_count": 3,
   "metadata": {},
   "outputs": [
    {
     "name": "stdout",
     "output_type": "stream",
     "text": [
      "FILTER [(col(\"HP\")) > (300)] FROM\n",
      "   WITH_COLUMNS:\n",
      "   [col(\"HP\").max().alias(\"Max HP\")] \n",
      "    Csv SCAN [pokemon.csv]\n",
      "    PROJECT 3/13 COLUMNS\n",
      "    SELECTION: [(col(\"Type 1\")) == (String(Grass))]\n"
     ]
    }
   ],
   "source": [
    "print(\n",
    "    pl.scan_csv('pokemon.csv')\n",
    "    .filter(pl.col('Type 1')=='Grass')\n",
    "    .with_columns(pl.col('HP').max().alias('Max HP'))\n",
    "    .filter(pl.col('HP')>300)\n",
    "    .select('Name', 'Type 1', 'HP', 'Max HP')\n",
    "    .explain()\n",
    ")"
   ]
  },
  {
   "cell_type": "code",
   "execution_count": 4,
   "metadata": {},
   "outputs": [
    {
     "name": "stdout",
     "output_type": "stream",
     "text": [
      " SELECT [col(\"Name\"), col(\"Type 1\"), col(\"HP\"), col(\"Max HP\")] FROM\n",
      "  FILTER [(col(\"HP\")) > (300)] FROM\n",
      "     WITH_COLUMNS:\n",
      "     [col(\"HP\").max().alias(\"Max HP\")] \n",
      "      FILTER [(col(\"Type 1\")) == (String(Grass))] FROM\n",
      "        Csv SCAN [pokemon.csv]\n",
      "        PROJECT */13 COLUMNS\n"
     ]
    }
   ],
   "source": [
    "print(\n",
    "    pl.scan_csv('pokemon.csv')\n",
    "    .filter(pl.col('Type 1')=='Grass')\n",
    "    .with_columns(pl.col('HP').max().alias('Max HP'))\n",
    "    .filter(pl.col('HP')>300)\n",
    "    .select('Name', 'Type 1', 'HP', 'Max HP')\n",
    "    .explain(optimized=False)\n",
    ")"
   ]
  },
  {
   "cell_type": "markdown",
   "metadata": {},
   "source": [
    "## .show_graph() method"
   ]
  },
  {
   "cell_type": "code",
   "execution_count": 5,
   "metadata": {},
   "outputs": [
    {
     "data": {
      "image/svg+xml": [
       "<svg xmlns=\"http://www.w3.org/2000/svg\" xmlns:xlink=\"http://www.w3.org/1999/xlink\" width=\"331pt\" height=\"210pt\" viewBox=\"0.00 0.00 330.75 209.50\">\n",
       "<g id=\"graph0\" class=\"graph\" transform=\"scale(1 1) rotate(0) translate(4 205.5)\">\n",
       "<title>polars_query</title>\n",
       "<polygon fill=\"white\" stroke=\"none\" points=\"-4,4 -4,-205.5 326.75,-205.5 326.75,4 -4,4\"/>\n",
       "<!-- p1 -->\n",
       "<g id=\"node1\" class=\"node\">\n",
       "<title>p1</title>\n",
       "<polygon fill=\"none\" stroke=\"black\" points=\"263.88,-201.5 58.88,-201.5 58.88,-165.5 263.88,-165.5 263.88,-201.5\"/>\n",
       "<text text-anchor=\"middle\" x=\"161.38\" y=\"-178.45\" font-family=\"Times,serif\" font-size=\"14.00\">FILTER BY [(col(&quot;HP&quot;)) &gt; (300)]</text>\n",
       "</g>\n",
       "<!-- p2 -->\n",
       "<g id=\"node2\" class=\"node\">\n",
       "<title>p2</title>\n",
       "<polygon fill=\"none\" stroke=\"black\" points=\"322.75,-129.5 0,-129.5 0,-93.5 322.75,-93.5 322.75,-129.5\"/>\n",
       "<text text-anchor=\"middle\" x=\"161.38\" y=\"-106.45\" font-family=\"Times,serif\" font-size=\"14.00\">WITH COLUMNS [col(&quot;HP&quot;).max().alias(&quot;Max HP&quot;)]</text>\n",
       "</g>\n",
       "<!-- p1&#45;&#45;p2 -->\n",
       "<g id=\"edge1\" class=\"edge\">\n",
       "<title>p1--p2</title>\n",
       "<path fill=\"none\" stroke=\"black\" d=\"M161.38,-165.2C161.38,-154.35 161.38,-140.42 161.38,-129.6\"/>\n",
       "</g>\n",
       "<!-- p3 -->\n",
       "<g id=\"node3\" class=\"node\">\n",
       "<title>p3</title>\n",
       "<polygon fill=\"none\" stroke=\"black\" points=\"274.75,-57.5 48,-57.5 48,0 274.75,0 274.75,-57.5\"/>\n",
       "<text text-anchor=\"middle\" x=\"161.38\" y=\"-40.2\" font-family=\"Times,serif\" font-size=\"14.00\">Csv SCAN [pokemon.csv]</text>\n",
       "<text text-anchor=\"middle\" x=\"161.38\" y=\"-23.7\" font-family=\"Times,serif\" font-size=\"14.00\">π 3/13;</text>\n",
       "<text text-anchor=\"middle\" x=\"161.38\" y=\"-7.2\" font-family=\"Times,serif\" font-size=\"14.00\">σ [(col(&quot;Type 1&quot;)) == (String(Grass))]</text>\n",
       "</g>\n",
       "<!-- p2&#45;&#45;p3 -->\n",
       "<g id=\"edge2\" class=\"edge\">\n",
       "<title>p2--p3</title>\n",
       "<path fill=\"none\" stroke=\"black\" d=\"M161.38,-93.38C161.38,-83.1 161.38,-69.77 161.38,-57.97\"/>\n",
       "</g>\n",
       "</g>\n",
       "</svg>"
      ],
      "text/plain": [
       "<IPython.core.display.SVG object>"
      ]
     },
     "metadata": {},
     "output_type": "display_data"
    }
   ],
   "source": [
    "(\n",
    "    pl.scan_csv('pokemon.csv')\n",
    "    .filter(pl.col('Type 1')=='Grass')\n",
    "    .with_columns(pl.col('HP').max().alias('Max HP'))\n",
    "    .filter(pl.col('HP')>300)\n",
    "    .select('Name', 'Type 1', 'HP', 'Max HP')\n",
    "    .show_graph()\n",
    ")"
   ]
  },
  {
   "cell_type": "code",
   "execution_count": 6,
   "metadata": {},
   "outputs": [
    {
     "data": {
      "image/svg+xml": [
       "<svg xmlns=\"http://www.w3.org/2000/svg\" xmlns:xlink=\"http://www.w3.org/1999/xlink\" width=\"331pt\" height=\"337pt\" viewBox=\"0.00 0.00 330.75 337.00\">\n",
       "<g id=\"graph0\" class=\"graph\" transform=\"scale(1 1) rotate(0) translate(4 333)\">\n",
       "<title>polars_query</title>\n",
       "<polygon fill=\"white\" stroke=\"none\" points=\"-4,4 -4,-333 326.75,-333 326.75,4 -4,4\"/>\n",
       "<!-- p1 -->\n",
       "<g id=\"node1\" class=\"node\">\n",
       "<title>p1</title>\n",
       "<polygon fill=\"none\" stroke=\"black\" points=\"188.38,-329 134.38,-329 134.38,-293 188.38,-293 188.38,-329\"/>\n",
       "<text text-anchor=\"middle\" x=\"161.38\" y=\"-305.95\" font-family=\"Times,serif\" font-size=\"14.00\">π 4/4</text>\n",
       "</g>\n",
       "<!-- p2 -->\n",
       "<g id=\"node2\" class=\"node\">\n",
       "<title>p2</title>\n",
       "<polygon fill=\"none\" stroke=\"black\" points=\"263.88,-257 58.88,-257 58.88,-221 263.88,-221 263.88,-257\"/>\n",
       "<text text-anchor=\"middle\" x=\"161.38\" y=\"-233.95\" font-family=\"Times,serif\" font-size=\"14.00\">FILTER BY [(col(&quot;HP&quot;)) &gt; (300)]</text>\n",
       "</g>\n",
       "<!-- p1&#45;&#45;p2 -->\n",
       "<g id=\"edge1\" class=\"edge\">\n",
       "<title>p1--p2</title>\n",
       "<path fill=\"none\" stroke=\"black\" d=\"M161.38,-292.7C161.38,-281.85 161.38,-267.92 161.38,-257.1\"/>\n",
       "</g>\n",
       "<!-- p3 -->\n",
       "<g id=\"node3\" class=\"node\">\n",
       "<title>p3</title>\n",
       "<polygon fill=\"none\" stroke=\"black\" points=\"322.75,-185 0,-185 0,-149 322.75,-149 322.75,-185\"/>\n",
       "<text text-anchor=\"middle\" x=\"161.38\" y=\"-161.95\" font-family=\"Times,serif\" font-size=\"14.00\">WITH COLUMNS [col(&quot;HP&quot;).max().alias(&quot;Max HP&quot;)]</text>\n",
       "</g>\n",
       "<!-- p2&#45;&#45;p3 -->\n",
       "<g id=\"edge2\" class=\"edge\">\n",
       "<title>p2--p3</title>\n",
       "<path fill=\"none\" stroke=\"black\" d=\"M161.38,-220.7C161.38,-209.85 161.38,-195.92 161.38,-185.1\"/>\n",
       "</g>\n",
       "<!-- p4 -->\n",
       "<g id=\"node4\" class=\"node\">\n",
       "<title>p4</title>\n",
       "<polygon fill=\"none\" stroke=\"black\" points=\"304.75,-113 18,-113 18,-77 304.75,-77 304.75,-113\"/>\n",
       "<text text-anchor=\"middle\" x=\"161.38\" y=\"-89.95\" font-family=\"Times,serif\" font-size=\"14.00\">FILTER BY [(col(&quot;Type 1&quot;)) == (String(Grass))]</text>\n",
       "</g>\n",
       "<!-- p3&#45;&#45;p4 -->\n",
       "<g id=\"edge3\" class=\"edge\">\n",
       "<title>p3--p4</title>\n",
       "<path fill=\"none\" stroke=\"black\" d=\"M161.38,-148.7C161.38,-137.85 161.38,-123.92 161.38,-113.1\"/>\n",
       "</g>\n",
       "<!-- p5 -->\n",
       "<g id=\"node5\" class=\"node\">\n",
       "<title>p5</title>\n",
       "<polygon fill=\"none\" stroke=\"black\" points=\"242.5,-41 80.25,-41 80.25,0 242.5,0 242.5,-41\"/>\n",
       "<text text-anchor=\"middle\" x=\"161.38\" y=\"-23.7\" font-family=\"Times,serif\" font-size=\"14.00\">Csv SCAN [pokemon.csv]</text>\n",
       "<text text-anchor=\"middle\" x=\"161.38\" y=\"-7.2\" font-family=\"Times,serif\" font-size=\"14.00\">π */13;</text>\n",
       "</g>\n",
       "<!-- p4&#45;&#45;p5 -->\n",
       "<g id=\"edge4\" class=\"edge\">\n",
       "<title>p4--p5</title>\n",
       "<path fill=\"none\" stroke=\"black\" d=\"M161.38,-76.82C161.38,-66.18 161.38,-52.49 161.38,-41.38\"/>\n",
       "</g>\n",
       "</g>\n",
       "</svg>"
      ],
      "text/plain": [
       "<IPython.core.display.SVG object>"
      ]
     },
     "metadata": {},
     "output_type": "display_data"
    }
   ],
   "source": [
    "(\n",
    "    pl.scan_csv('pokemon.csv')\n",
    "    .filter(pl.col('Type 1')=='Grass')\n",
    "    .with_columns(pl.col('HP').max().alias('Max HP'))\n",
    "    .filter(pl.col('HP')>300)\n",
    "    .select('Name', 'Type 1', 'HP', 'Max HP')\n",
    "    .show_graph(optimized=False)\n",
    ")"
   ]
  },
  {
   "cell_type": "markdown",
   "metadata": {},
   "source": [
    "## Optimizing Query Plans"
   ]
  },
  {
   "cell_type": "code",
   "execution_count": 7,
   "metadata": {},
   "outputs": [
    {
     "name": "stdout",
     "output_type": "stream",
     "text": [
      " WITH_COLUMNS:\n",
      " [col(\"HP\").max().alias(\"Max HP\")] \n",
      "  Csv SCAN [pokemon.csv]\n",
      "  PROJECT 3/13 COLUMNS\n",
      "  SELECTION: [([(col(\"Type 1\")) == (String(Grass))]) & ([(col(\"HP\")) > (300)])]\n"
     ]
    }
   ],
   "source": [
    "print(\n",
    "    pl.scan_csv('pokemon.csv')\n",
    "    .filter(pl.col('Type 1')=='Grass')\n",
    "    .filter(pl.col('HP')>300)\n",
    "    .with_columns(pl.col('HP').max().alias('Max HP'))\n",
    "    .select('Name', 'Type 1', 'HP', 'Max HP')\n",
    "    .explain()\n",
    ")"
   ]
  },
  {
   "cell_type": "code",
   "execution_count": 8,
   "metadata": {},
   "outputs": [
    {
     "data": {
      "image/svg+xml": [
       "<svg xmlns=\"http://www.w3.org/2000/svg\" xmlns:xlink=\"http://www.w3.org/1999/xlink\" width=\"398pt\" height=\"138pt\" viewBox=\"0.00 0.00 398.25 137.50\">\n",
       "<g id=\"graph0\" class=\"graph\" transform=\"scale(1 1) rotate(0) translate(4 133.5)\">\n",
       "<title>polars_query</title>\n",
       "<polygon fill=\"white\" stroke=\"none\" points=\"-4,4 -4,-133.5 394.25,-133.5 394.25,4 -4,4\"/>\n",
       "<!-- p1 -->\n",
       "<g id=\"node1\" class=\"node\">\n",
       "<title>p1</title>\n",
       "<polygon fill=\"none\" stroke=\"black\" points=\"356.5,-129.5 33.75,-129.5 33.75,-93.5 356.5,-93.5 356.5,-129.5\"/>\n",
       "<text text-anchor=\"middle\" x=\"195.12\" y=\"-106.45\" font-family=\"Times,serif\" font-size=\"14.00\">WITH COLUMNS [col(&quot;HP&quot;).max().alias(&quot;Max HP&quot;)]</text>\n",
       "</g>\n",
       "<!-- p2 -->\n",
       "<g id=\"node2\" class=\"node\">\n",
       "<title>p2</title>\n",
       "<polygon fill=\"none\" stroke=\"black\" points=\"390.25,-57.5 0,-57.5 0,0 390.25,0 390.25,-57.5\"/>\n",
       "<text text-anchor=\"middle\" x=\"195.12\" y=\"-40.2\" font-family=\"Times,serif\" font-size=\"14.00\">Csv SCAN [pokemon.csv]</text>\n",
       "<text text-anchor=\"middle\" x=\"195.12\" y=\"-23.7\" font-family=\"Times,serif\" font-size=\"14.00\">π 3/13;</text>\n",
       "<text text-anchor=\"middle\" x=\"195.12\" y=\"-7.2\" font-family=\"Times,serif\" font-size=\"14.00\">σ [([(col(&quot;HP&quot;)) &gt; (300)]) &amp; ([(col(&quot;Type 1&quot;)) == (String(Grass))])]</text>\n",
       "</g>\n",
       "<!-- p1&#45;&#45;p2 -->\n",
       "<g id=\"edge1\" class=\"edge\">\n",
       "<title>p1--p2</title>\n",
       "<path fill=\"none\" stroke=\"black\" d=\"M195.12,-93.38C195.12,-83.1 195.12,-69.77 195.12,-57.97\"/>\n",
       "</g>\n",
       "</g>\n",
       "</svg>"
      ],
      "text/plain": [
       "<IPython.core.display.SVG object>"
      ]
     },
     "metadata": {},
     "output_type": "display_data"
    }
   ],
   "source": [
    "(\n",
    "    pl.scan_csv('pokemon.csv')\n",
    "    .filter(pl.col('Type 1')=='Grass')\n",
    "    .filter(pl.col('HP')>300)\n",
    "    .with_columns(pl.col('HP').max().alias('Max HP'))\n",
    "    .select('Name', 'Type 1', 'HP', 'Max HP')\n",
    "    .show_graph()\n",
    ")"
   ]
  },
  {
   "cell_type": "markdown",
   "metadata": {},
   "source": [
    "## Check the Execution Time for Each Opeartion"
   ]
  },
  {
   "cell_type": "code",
   "execution_count": 12,
   "metadata": {},
   "outputs": [
    {
     "data": {
      "text/html": [
       "<div><style>\n",
       ".dataframe > thead > tr,\n",
       ".dataframe > tbody > tr {\n",
       "  text-align: right;\n",
       "  white-space: pre-wrap;\n",
       "}\n",
       "</style>\n",
       "<small>shape: (0, 4)</small><table border=\"1\" class=\"dataframe\"><thead><tr><th>Name</th><th>Type 1</th><th>HP</th><th>Max HP</th></tr><tr><td>str</td><td>str</td><td>i64</td><td>i64</td></tr></thead><tbody></tbody></table></div>"
      ],
      "text/plain": [
       "shape: (0, 4)\n",
       "┌──────┬────────┬─────┬────────┐\n",
       "│ Name ┆ Type 1 ┆ HP  ┆ Max HP │\n",
       "│ ---  ┆ ---    ┆ --- ┆ ---    │\n",
       "│ str  ┆ str    ┆ i64 ┆ i64    │\n",
       "╞══════╪════════╪═════╪════════╡\n",
       "└──────┴────────┴─────┴────────┘"
      ]
     },
     "execution_count": 12,
     "metadata": {},
     "output_type": "execute_result"
    }
   ],
   "source": [
    "(\n",
    "    pl.scan_csv('pokemon.csv')\n",
    "    .filter(pl.col('Type 1')=='Grass')\n",
    "    .filter(pl.col('HP')>300)\n",
    "    .with_columns(pl.col('HP').max().alias('Max HP'))\n",
    "    .select('Name', 'Type 1', 'HP', 'Max HP')\n",
    "    .profile()\n",
    ")"
   ]
  },
  {
   "cell_type": "code",
   "execution_count": null,
   "metadata": {},
   "outputs": [],
   "source": []
  }
 ],
 "metadata": {
  "kernelspec": {
   "display_name": "Python 3",
   "language": "python",
   "name": "python3"
  },
  "language_info": {
   "codemirror_mode": {
    "name": "ipython",
    "version": 3
   },
   "file_extension": ".py",
   "mimetype": "text/x-python",
   "name": "python",
   "nbconvert_exporter": "python",
   "pygments_lexer": "ipython3",
   "version": "3.11.3"
  }
 },
 "nbformat": 4,
 "nbformat_minor": 2
}
