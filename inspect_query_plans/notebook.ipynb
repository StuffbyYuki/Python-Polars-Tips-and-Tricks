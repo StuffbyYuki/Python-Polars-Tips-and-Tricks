{
 "cells": [
  {
   "cell_type": "markdown",
   "metadata": {},
   "source": [
    "# Inspect Query Plans"
   ]
  },
  {
   "cell_type": "code",
   "execution_count": 1,
   "metadata": {},
   "outputs": [],
   "source": [
    "import polars as pl"
   ]
  },
  {
   "cell_type": "code",
   "execution_count": 2,
   "metadata": {},
   "outputs": [
    {
     "data": {
      "text/plain": [
       "'1.5.0'"
      ]
     },
     "execution_count": 2,
     "metadata": {},
     "output_type": "execute_result"
    }
   ],
   "source": [
    "pl.__version__"
   ]
  },
  {
   "cell_type": "markdown",
   "metadata": {},
   "source": [
    "## .explain() method"
   ]
  },
  {
   "cell_type": "code",
   "execution_count": 20,
   "metadata": {},
   "outputs": [
    {
     "name": "stdout",
     "output_type": "stream",
     "text": [
      "FILTER [(col(\"HP\")) > (300)] FROM\n",
      "   WITH_COLUMNS:\n",
      "   [col(\"HP\").max().alias(\"Max HP\")] \n",
      "    Csv SCAN [pokemon.csv]\n",
      "    PROJECT 3/13 COLUMNS\n",
      "    SELECTION: [(col(\"Type 1\")) == (String(Grass))]\n"
     ]
    }
   ],
   "source": [
    "print(\n",
    "    pl.scan_csv('pokemon.csv')\n",
    "    .filter(pl.col('Type 1')=='Grass')\n",
    "    .with_columns(pl.col('HP').max().alias('Max HP'))\n",
    "    .filter(pl.col('HP')>300)\n",
    "    .select('Name', 'Type 1', 'HP', 'Max HP')\n",
    "    .explain()\n",
    ")"
   ]
  },
  {
   "cell_type": "code",
   "execution_count": 21,
   "metadata": {},
   "outputs": [
    {
     "name": "stdout",
     "output_type": "stream",
     "text": [
      " SELECT [col(\"Name\"), col(\"Type 1\"), col(\"HP\"), col(\"Max HP\")] FROM\n",
      "  FILTER [(col(\"HP\")) > (300)] FROM\n",
      "     WITH_COLUMNS:\n",
      "     [col(\"HP\").max().alias(\"Max HP\")] \n",
      "      FILTER [(col(\"Type 1\")) == (String(Grass))] FROM\n",
      "        Csv SCAN [pokemon.csv]\n",
      "        PROJECT */13 COLUMNS\n"
     ]
    }
   ],
   "source": [
    "print(\n",
    "    pl.scan_csv('pokemon.csv')\n",
    "    .filter(pl.col('Type 1')=='Grass')\n",
    "    .with_columns(pl.col('HP').max().alias('Max HP'))\n",
    "    .filter(pl.col('HP')>300)\n",
    "    .select('Name', 'Type 1', 'HP', 'Max HP')\n",
    "    .explain(optimized=False)\n",
    ")"
   ]
  },
  {
   "cell_type": "markdown",
   "metadata": {},
   "source": [
    "## .show_graph() method"
   ]
  },
  {
   "cell_type": "code",
   "execution_count": 14,
   "metadata": {},
   "outputs": [
    {
     "data": {
      "image/svg+xml": [
       "<svg xmlns=\"http://www.w3.org/2000/svg\" xmlns:xlink=\"http://www.w3.org/1999/xlink\" width=\"331pt\" height=\"193pt\" viewBox=\"0.00 0.00 330.75 193.00\">\n",
       "<g id=\"graph0\" class=\"graph\" transform=\"scale(1 1) rotate(0) translate(4 189)\">\n",
       "<title>polars_query</title>\n",
       "<polygon fill=\"white\" stroke=\"none\" points=\"-4,4 -4,-189 326.75,-189 326.75,4 -4,4\"/>\n",
       "<!-- p1 -->\n",
       "<g id=\"node1\" class=\"node\">\n",
       "<title>p1</title>\n",
       "<polygon fill=\"none\" stroke=\"black\" points=\"263.88,-185 58.88,-185 58.88,-149 263.88,-149 263.88,-185\"/>\n",
       "<text text-anchor=\"middle\" x=\"161.38\" y=\"-161.95\" font-family=\"Times,serif\" font-size=\"14.00\">FILTER BY [(col(&quot;HP&quot;)) &gt; (300)]</text>\n",
       "</g>\n",
       "<!-- p2 -->\n",
       "<g id=\"node2\" class=\"node\">\n",
       "<title>p2</title>\n",
       "<polygon fill=\"none\" stroke=\"black\" points=\"322.75,-113 0,-113 0,-77 322.75,-77 322.75,-113\"/>\n",
       "<text text-anchor=\"middle\" x=\"161.38\" y=\"-89.95\" font-family=\"Times,serif\" font-size=\"14.00\">WITH COLUMNS [col(&quot;HP&quot;).max().alias(&quot;Max HP&quot;)]</text>\n",
       "</g>\n",
       "<!-- p1&#45;&#45;p2 -->\n",
       "<g id=\"edge1\" class=\"edge\">\n",
       "<title>p1--p2</title>\n",
       "<path fill=\"none\" stroke=\"black\" d=\"M161.38,-148.7C161.38,-137.85 161.38,-123.92 161.38,-113.1\"/>\n",
       "</g>\n",
       "<!-- p3 -->\n",
       "<g id=\"node3\" class=\"node\">\n",
       "<title>p3</title>\n",
       "<polygon fill=\"none\" stroke=\"black\" points=\"242.5,-41 80.25,-41 80.25,0 242.5,0 242.5,-41\"/>\n",
       "<text text-anchor=\"middle\" x=\"161.38\" y=\"-23.7\" font-family=\"Times,serif\" font-size=\"14.00\">Csv SCAN [pokemon.csv]</text>\n",
       "<text text-anchor=\"middle\" x=\"161.38\" y=\"-7.2\" font-family=\"Times,serif\" font-size=\"14.00\">π 3/13;</text>\n",
       "</g>\n",
       "<!-- p2&#45;&#45;p3 -->\n",
       "<g id=\"edge2\" class=\"edge\">\n",
       "<title>p2--p3</title>\n",
       "<path fill=\"none\" stroke=\"black\" d=\"M161.38,-76.82C161.38,-66.18 161.38,-52.49 161.38,-41.38\"/>\n",
       "</g>\n",
       "</g>\n",
       "</svg>"
      ],
      "text/plain": [
       "<IPython.core.display.SVG object>"
      ]
     },
     "metadata": {},
     "output_type": "display_data"
    }
   ],
   "source": [
    "(\n",
    "    pl.scan_csv('pokemon.csv')\n",
    "    .filter(pl.col('Type 1')=='Grass')\n",
    "    .with_columns(pl.col('HP').max().alias('Max HP'))\n",
    "    .filter(pl.col('HP')>300)\n",
    "    .select('Name', 'Type 1', 'HP', 'Max HP')\n",
    "    .show_graph()\n",
    ")"
   ]
  },
  {
   "cell_type": "code",
   "execution_count": 12,
   "metadata": {},
   "outputs": [
    {
     "data": {
      "image/svg+xml": [
       "<svg xmlns=\"http://www.w3.org/2000/svg\" xmlns:xlink=\"http://www.w3.org/1999/xlink\" width=\"331pt\" height=\"265pt\" viewBox=\"0.00 0.00 330.75 265.00\">\n",
       "<g id=\"graph0\" class=\"graph\" transform=\"scale(1 1) rotate(0) translate(4 261)\">\n",
       "<title>polars_query</title>\n",
       "<polygon fill=\"white\" stroke=\"none\" points=\"-4,4 -4,-261 326.75,-261 326.75,4 -4,4\"/>\n",
       "<!-- p1 -->\n",
       "<g id=\"node1\" class=\"node\">\n",
       "<title>p1</title>\n",
       "<polygon fill=\"none\" stroke=\"black\" points=\"188.38,-257 134.38,-257 134.38,-221 188.38,-221 188.38,-257\"/>\n",
       "<text text-anchor=\"middle\" x=\"161.38\" y=\"-233.95\" font-family=\"Times,serif\" font-size=\"14.00\">π 4/4</text>\n",
       "</g>\n",
       "<!-- p2 -->\n",
       "<g id=\"node2\" class=\"node\">\n",
       "<title>p2</title>\n",
       "<polygon fill=\"none\" stroke=\"black\" points=\"263.88,-185 58.88,-185 58.88,-149 263.88,-149 263.88,-185\"/>\n",
       "<text text-anchor=\"middle\" x=\"161.38\" y=\"-161.95\" font-family=\"Times,serif\" font-size=\"14.00\">FILTER BY [(col(&quot;HP&quot;)) &gt; (300)]</text>\n",
       "</g>\n",
       "<!-- p1&#45;&#45;p2 -->\n",
       "<g id=\"edge1\" class=\"edge\">\n",
       "<title>p1--p2</title>\n",
       "<path fill=\"none\" stroke=\"black\" d=\"M161.38,-220.7C161.38,-209.85 161.38,-195.92 161.38,-185.1\"/>\n",
       "</g>\n",
       "<!-- p3 -->\n",
       "<g id=\"node3\" class=\"node\">\n",
       "<title>p3</title>\n",
       "<polygon fill=\"none\" stroke=\"black\" points=\"322.75,-113 0,-113 0,-77 322.75,-77 322.75,-113\"/>\n",
       "<text text-anchor=\"middle\" x=\"161.38\" y=\"-89.95\" font-family=\"Times,serif\" font-size=\"14.00\">WITH COLUMNS [col(&quot;HP&quot;).max().alias(&quot;Max HP&quot;)]</text>\n",
       "</g>\n",
       "<!-- p2&#45;&#45;p3 -->\n",
       "<g id=\"edge2\" class=\"edge\">\n",
       "<title>p2--p3</title>\n",
       "<path fill=\"none\" stroke=\"black\" d=\"M161.38,-148.7C161.38,-137.85 161.38,-123.92 161.38,-113.1\"/>\n",
       "</g>\n",
       "<!-- p4 -->\n",
       "<g id=\"node4\" class=\"node\">\n",
       "<title>p4</title>\n",
       "<polygon fill=\"none\" stroke=\"black\" points=\"242.5,-41 80.25,-41 80.25,0 242.5,0 242.5,-41\"/>\n",
       "<text text-anchor=\"middle\" x=\"161.38\" y=\"-23.7\" font-family=\"Times,serif\" font-size=\"14.00\">Csv SCAN [pokemon.csv]</text>\n",
       "<text text-anchor=\"middle\" x=\"161.38\" y=\"-7.2\" font-family=\"Times,serif\" font-size=\"14.00\">π */13;</text>\n",
       "</g>\n",
       "<!-- p3&#45;&#45;p4 -->\n",
       "<g id=\"edge3\" class=\"edge\">\n",
       "<title>p3--p4</title>\n",
       "<path fill=\"none\" stroke=\"black\" d=\"M161.38,-76.82C161.38,-66.18 161.38,-52.49 161.38,-41.38\"/>\n",
       "</g>\n",
       "</g>\n",
       "</svg>"
      ],
      "text/plain": [
       "<IPython.core.display.SVG object>"
      ]
     },
     "metadata": {},
     "output_type": "display_data"
    }
   ],
   "source": [
    "(\n",
    "    pl.scan_csv('pokemon.csv')\n",
    "    .filter(pl.col('Type 1')=='Grass')\n",
    "    .with_columns(pl.col('HP').max().alias('Max HP'))\n",
    "    .filter(pl.col('HP')>300)\n",
    "    .select('Name', 'Type 1', 'HP', 'Max HP')\n",
    "    .show_graph(optimized=False)\n",
    ")"
   ]
  },
  {
   "cell_type": "markdown",
   "metadata": {},
   "source": [
    "## Optimizing Query Plans"
   ]
  },
  {
   "cell_type": "code",
   "execution_count": 23,
   "metadata": {},
   "outputs": [
    {
     "name": "stdout",
     "output_type": "stream",
     "text": [
      " WITH_COLUMNS:\n",
      " [col(\"HP\").max().alias(\"Max HP\")] \n",
      "  Csv SCAN [pokemon.csv]\n",
      "  PROJECT 3/13 COLUMNS\n",
      "  SELECTION: [([(col(\"HP\")) > (300)]) & ([(col(\"Type 1\")) == (String(Grass))])]\n"
     ]
    }
   ],
   "source": [
    "print(\n",
    "    pl.scan_csv('pokemon.csv')\n",
    "    .filter(pl.col('Type 1')=='Grass')\n",
    "    .filter(pl.col('HP')>300)\n",
    "    .with_columns(pl.col('HP').max().alias('Max HP'))\n",
    "    .select('Name', 'Type 1', 'HP', 'Max HP')\n",
    "    .explain()\n",
    ")"
   ]
  },
  {
   "cell_type": "code",
   "execution_count": 22,
   "metadata": {},
   "outputs": [
    {
     "data": {
      "image/svg+xml": [
       "<svg xmlns=\"http://www.w3.org/2000/svg\" xmlns:xlink=\"http://www.w3.org/1999/xlink\" width=\"398pt\" height=\"138pt\" viewBox=\"0.00 0.00 398.25 137.50\">\n",
       "<g id=\"graph0\" class=\"graph\" transform=\"scale(1 1) rotate(0) translate(4 133.5)\">\n",
       "<title>polars_query</title>\n",
       "<polygon fill=\"white\" stroke=\"none\" points=\"-4,4 -4,-133.5 394.25,-133.5 394.25,4 -4,4\"/>\n",
       "<!-- p1 -->\n",
       "<g id=\"node1\" class=\"node\">\n",
       "<title>p1</title>\n",
       "<polygon fill=\"none\" stroke=\"black\" points=\"356.5,-129.5 33.75,-129.5 33.75,-93.5 356.5,-93.5 356.5,-129.5\"/>\n",
       "<text text-anchor=\"middle\" x=\"195.12\" y=\"-106.45\" font-family=\"Times,serif\" font-size=\"14.00\">WITH COLUMNS [col(&quot;HP&quot;).max().alias(&quot;Max HP&quot;)]</text>\n",
       "</g>\n",
       "<!-- p2 -->\n",
       "<g id=\"node2\" class=\"node\">\n",
       "<title>p2</title>\n",
       "<polygon fill=\"none\" stroke=\"black\" points=\"390.25,-57.5 0,-57.5 0,0 390.25,0 390.25,-57.5\"/>\n",
       "<text text-anchor=\"middle\" x=\"195.12\" y=\"-40.2\" font-family=\"Times,serif\" font-size=\"14.00\">Csv SCAN [pokemon.csv]</text>\n",
       "<text text-anchor=\"middle\" x=\"195.12\" y=\"-23.7\" font-family=\"Times,serif\" font-size=\"14.00\">π 3/13;</text>\n",
       "<text text-anchor=\"middle\" x=\"195.12\" y=\"-7.2\" font-family=\"Times,serif\" font-size=\"14.00\">σ [([(col(&quot;Type 1&quot;)) == (String(Grass))]) &amp; ([(col(&quot;HP&quot;)) &gt; (300)])]</text>\n",
       "</g>\n",
       "<!-- p1&#45;&#45;p2 -->\n",
       "<g id=\"edge1\" class=\"edge\">\n",
       "<title>p1--p2</title>\n",
       "<path fill=\"none\" stroke=\"black\" d=\"M195.12,-93.38C195.12,-83.1 195.12,-69.77 195.12,-57.97\"/>\n",
       "</g>\n",
       "</g>\n",
       "</svg>"
      ],
      "text/plain": [
       "<IPython.core.display.SVG object>"
      ]
     },
     "metadata": {},
     "output_type": "display_data"
    }
   ],
   "source": [
    "(\n",
    "    pl.scan_csv('pokemon.csv')\n",
    "    .filter(pl.col('Type 1')=='Grass')\n",
    "    .filter(pl.col('HP')>300)\n",
    "    .with_columns(pl.col('HP').max().alias('Max HP'))\n",
    "    .select('Name', 'Type 1', 'HP', 'Max HP')\n",
    "    .show_graph()\n",
    ")"
   ]
  },
  {
   "cell_type": "code",
   "execution_count": null,
   "metadata": {},
   "outputs": [],
   "source": []
  }
 ],
 "metadata": {
  "kernelspec": {
   "display_name": "Python 3",
   "language": "python",
   "name": "python3"
  },
  "language_info": {
   "codemirror_mode": {
    "name": "ipython",
    "version": 3
   },
   "file_extension": ".py",
   "mimetype": "text/x-python",
   "name": "python",
   "nbconvert_exporter": "python",
   "pygments_lexer": "ipython3",
   "version": "3.11.3"
  }
 },
 "nbformat": 4,
 "nbformat_minor": 2
}
